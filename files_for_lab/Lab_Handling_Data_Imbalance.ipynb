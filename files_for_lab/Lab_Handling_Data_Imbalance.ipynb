{
 "cells": [
  {
   "cell_type": "markdown",
   "metadata": {},
   "source": [
    "You are working as an analyst with this internet service provider. You are provided with this historical data about your company's customers and their churn trends. Your task is to build a machine learning model that will help the company identify customers that are more likely to default/churn and thus prevent losses from such customers."
   ]
  },
  {
   "cell_type": "code",
   "execution_count": 30,
   "metadata": {},
   "outputs": [],
   "source": [
    "# importing relevant libraries\n",
    "import pandas as pd\n",
    "import numpy as np\n",
    "from imblearn.under_sampling import TomekLinks\n",
    "from imblearn.over_sampling import SMOTE\n",
    "\n",
    "# Pre-Processing\n",
    "from sklearn.preprocessing import StandardScaler\n",
    "from sklearn.preprocessing import Normalizer\n",
    "from sklearn.model_selection import train_test_split\n",
    "\n",
    "# Model\n",
    "from sklearn.linear_model import LogisticRegression\n",
    "\n",
    "# Metric libraries\n",
    "from sklearn.metrics import accuracy_score, plot_confusion_matrix, cohen_kappa_score\n",
    "\n",
    "# Imbalance Libraries\n",
    "from imblearn.over_sampling import SMOTE\n",
    "from imblearn.under_sampling import TomekLinks\n"
   ]
  },
  {
   "cell_type": "code",
   "execution_count": 2,
   "metadata": {},
   "outputs": [
    {
     "data": {
      "text/html": [
       "<div>\n",
       "<style scoped>\n",
       "    .dataframe tbody tr th:only-of-type {\n",
       "        vertical-align: middle;\n",
       "    }\n",
       "\n",
       "    .dataframe tbody tr th {\n",
       "        vertical-align: top;\n",
       "    }\n",
       "\n",
       "    .dataframe thead th {\n",
       "        text-align: right;\n",
       "    }\n",
       "</style>\n",
       "<table border=\"1\" class=\"dataframe\">\n",
       "  <thead>\n",
       "    <tr style=\"text-align: right;\">\n",
       "      <th></th>\n",
       "      <th>gender</th>\n",
       "      <th>SeniorCitizen</th>\n",
       "      <th>Partner</th>\n",
       "      <th>Dependents</th>\n",
       "      <th>tenure</th>\n",
       "      <th>PhoneService</th>\n",
       "      <th>OnlineSecurity</th>\n",
       "      <th>OnlineBackup</th>\n",
       "      <th>DeviceProtection</th>\n",
       "      <th>TechSupport</th>\n",
       "      <th>StreamingTV</th>\n",
       "      <th>StreamingMovies</th>\n",
       "      <th>Contract</th>\n",
       "      <th>MonthlyCharges</th>\n",
       "      <th>TotalCharges</th>\n",
       "      <th>Churn</th>\n",
       "    </tr>\n",
       "  </thead>\n",
       "  <tbody>\n",
       "    <tr>\n",
       "      <th>0</th>\n",
       "      <td>Female</td>\n",
       "      <td>0</td>\n",
       "      <td>Yes</td>\n",
       "      <td>No</td>\n",
       "      <td>1</td>\n",
       "      <td>No</td>\n",
       "      <td>No</td>\n",
       "      <td>Yes</td>\n",
       "      <td>No</td>\n",
       "      <td>No</td>\n",
       "      <td>No</td>\n",
       "      <td>No</td>\n",
       "      <td>Month-to-month</td>\n",
       "      <td>29.85</td>\n",
       "      <td>29.85</td>\n",
       "      <td>No</td>\n",
       "    </tr>\n",
       "    <tr>\n",
       "      <th>1</th>\n",
       "      <td>Male</td>\n",
       "      <td>0</td>\n",
       "      <td>No</td>\n",
       "      <td>No</td>\n",
       "      <td>34</td>\n",
       "      <td>Yes</td>\n",
       "      <td>Yes</td>\n",
       "      <td>No</td>\n",
       "      <td>Yes</td>\n",
       "      <td>No</td>\n",
       "      <td>No</td>\n",
       "      <td>No</td>\n",
       "      <td>One year</td>\n",
       "      <td>56.95</td>\n",
       "      <td>1889.5</td>\n",
       "      <td>No</td>\n",
       "    </tr>\n",
       "    <tr>\n",
       "      <th>2</th>\n",
       "      <td>Male</td>\n",
       "      <td>0</td>\n",
       "      <td>No</td>\n",
       "      <td>No</td>\n",
       "      <td>2</td>\n",
       "      <td>Yes</td>\n",
       "      <td>Yes</td>\n",
       "      <td>Yes</td>\n",
       "      <td>No</td>\n",
       "      <td>No</td>\n",
       "      <td>No</td>\n",
       "      <td>No</td>\n",
       "      <td>Month-to-month</td>\n",
       "      <td>53.85</td>\n",
       "      <td>108.15</td>\n",
       "      <td>Yes</td>\n",
       "    </tr>\n",
       "    <tr>\n",
       "      <th>3</th>\n",
       "      <td>Male</td>\n",
       "      <td>0</td>\n",
       "      <td>No</td>\n",
       "      <td>No</td>\n",
       "      <td>45</td>\n",
       "      <td>No</td>\n",
       "      <td>Yes</td>\n",
       "      <td>No</td>\n",
       "      <td>Yes</td>\n",
       "      <td>Yes</td>\n",
       "      <td>No</td>\n",
       "      <td>No</td>\n",
       "      <td>One year</td>\n",
       "      <td>42.30</td>\n",
       "      <td>1840.75</td>\n",
       "      <td>No</td>\n",
       "    </tr>\n",
       "    <tr>\n",
       "      <th>4</th>\n",
       "      <td>Female</td>\n",
       "      <td>0</td>\n",
       "      <td>No</td>\n",
       "      <td>No</td>\n",
       "      <td>2</td>\n",
       "      <td>Yes</td>\n",
       "      <td>No</td>\n",
       "      <td>No</td>\n",
       "      <td>No</td>\n",
       "      <td>No</td>\n",
       "      <td>No</td>\n",
       "      <td>No</td>\n",
       "      <td>Month-to-month</td>\n",
       "      <td>70.70</td>\n",
       "      <td>151.65</td>\n",
       "      <td>Yes</td>\n",
       "    </tr>\n",
       "  </tbody>\n",
       "</table>\n",
       "</div>"
      ],
      "text/plain": [
       "   gender  SeniorCitizen Partner Dependents  tenure PhoneService  \\\n",
       "0  Female              0     Yes         No       1           No   \n",
       "1    Male              0      No         No      34          Yes   \n",
       "2    Male              0      No         No       2          Yes   \n",
       "3    Male              0      No         No      45           No   \n",
       "4  Female              0      No         No       2          Yes   \n",
       "\n",
       "  OnlineSecurity OnlineBackup DeviceProtection TechSupport StreamingTV  \\\n",
       "0             No          Yes               No          No          No   \n",
       "1            Yes           No              Yes          No          No   \n",
       "2            Yes          Yes               No          No          No   \n",
       "3            Yes           No              Yes         Yes          No   \n",
       "4             No           No               No          No          No   \n",
       "\n",
       "  StreamingMovies        Contract  MonthlyCharges TotalCharges Churn  \n",
       "0              No  Month-to-month           29.85        29.85    No  \n",
       "1              No        One year           56.95       1889.5    No  \n",
       "2              No  Month-to-month           53.85       108.15   Yes  \n",
       "3              No        One year           42.30      1840.75    No  \n",
       "4              No  Month-to-month           70.70       151.65   Yes  "
      ]
     },
     "execution_count": 2,
     "metadata": {},
     "output_type": "execute_result"
    }
   ],
   "source": [
    "# Creating dataframe 'churnData'\n",
    "churndata = pd.read_csv('Customer-Churn.csv')\n",
    "churndata.head()"
   ]
  },
  {
   "cell_type": "code",
   "execution_count": 3,
   "metadata": {},
   "outputs": [
    {
     "name": "stdout",
     "output_type": "stream",
     "text": [
      "Index(['gender', 'seniorcitizen', 'partner', 'dependents', 'tenure',\n",
      "       'phoneservice', 'onlinesecurity', 'onlinebackup', 'deviceprotection',\n",
      "       'techsupport', 'streamingtv', 'streamingmovies', 'contract',\n",
      "       'monthlycharges', 'totalcharges', 'churn'],\n",
      "      dtype='object')\n"
     ]
    }
   ],
   "source": [
    "# Cleaning headers to all lower case\n",
    "churndata.columns = churndata.columns.str.lower()\n",
    "print(churndata.columns)"
   ]
  },
  {
   "cell_type": "code",
   "execution_count": 4,
   "metadata": {},
   "outputs": [
    {
     "name": "stdout",
     "output_type": "stream",
     "text": [
      "<class 'pandas.core.frame.DataFrame'>\n",
      "RangeIndex: 7043 entries, 0 to 7042\n",
      "Data columns (total 16 columns):\n",
      " #   Column            Non-Null Count  Dtype  \n",
      "---  ------            --------------  -----  \n",
      " 0   gender            7043 non-null   object \n",
      " 1   seniorcitizen     7043 non-null   int64  \n",
      " 2   partner           7043 non-null   object \n",
      " 3   dependents        7043 non-null   object \n",
      " 4   tenure            7043 non-null   int64  \n",
      " 5   phoneservice      7043 non-null   object \n",
      " 6   onlinesecurity    7043 non-null   object \n",
      " 7   onlinebackup      7043 non-null   object \n",
      " 8   deviceprotection  7043 non-null   object \n",
      " 9   techsupport       7043 non-null   object \n",
      " 10  streamingtv       7043 non-null   object \n",
      " 11  streamingmovies   7043 non-null   object \n",
      " 12  contract          7043 non-null   object \n",
      " 13  monthlycharges    7043 non-null   float64\n",
      " 14  totalcharges      7043 non-null   object \n",
      " 15  churn             7043 non-null   object \n",
      "dtypes: float64(1), int64(2), object(13)\n",
      "memory usage: 880.5+ KB\n"
     ]
    }
   ],
   "source": [
    "# Checking datatypes of all columns\n",
    "churndata.info()"
   ]
  },
  {
   "cell_type": "code",
   "execution_count": 5,
   "metadata": {},
   "outputs": [],
   "source": [
    "# Converting totalcharges from object to numeric\n",
    "churndata['totalcharges'] = pd.to_numeric(churndata['totalcharges'], errors = 'coerce')"
   ]
  },
  {
   "cell_type": "code",
   "execution_count": 6,
   "metadata": {},
   "outputs": [
    {
     "name": "stdout",
     "output_type": "stream",
     "text": [
      "<class 'pandas.core.frame.DataFrame'>\n",
      "RangeIndex: 7043 entries, 0 to 7042\n",
      "Data columns (total 16 columns):\n",
      " #   Column            Non-Null Count  Dtype  \n",
      "---  ------            --------------  -----  \n",
      " 0   gender            7043 non-null   object \n",
      " 1   seniorcitizen     7043 non-null   int64  \n",
      " 2   partner           7043 non-null   object \n",
      " 3   dependents        7043 non-null   object \n",
      " 4   tenure            7043 non-null   int64  \n",
      " 5   phoneservice      7043 non-null   object \n",
      " 6   onlinesecurity    7043 non-null   object \n",
      " 7   onlinebackup      7043 non-null   object \n",
      " 8   deviceprotection  7043 non-null   object \n",
      " 9   techsupport       7043 non-null   object \n",
      " 10  streamingtv       7043 non-null   object \n",
      " 11  streamingmovies   7043 non-null   object \n",
      " 12  contract          7043 non-null   object \n",
      " 13  monthlycharges    7043 non-null   float64\n",
      " 14  totalcharges      7032 non-null   float64\n",
      " 15  churn             7043 non-null   object \n",
      "dtypes: float64(2), int64(2), object(12)\n",
      "memory usage: 880.5+ KB\n"
     ]
    }
   ],
   "source": [
    "# Checking to make sure conversion worked\n",
    "churndata.info()"
   ]
  },
  {
   "cell_type": "code",
   "execution_count": 7,
   "metadata": {},
   "outputs": [
    {
     "data": {
      "text/plain": [
       "gender               0\n",
       "seniorcitizen        0\n",
       "partner              0\n",
       "dependents           0\n",
       "tenure               0\n",
       "phoneservice         0\n",
       "onlinesecurity       0\n",
       "onlinebackup         0\n",
       "deviceprotection     0\n",
       "techsupport          0\n",
       "streamingtv          0\n",
       "streamingmovies      0\n",
       "contract             0\n",
       "monthlycharges       0\n",
       "totalcharges        11\n",
       "churn                0\n",
       "dtype: int64"
      ]
     },
     "execution_count": 7,
     "metadata": {},
     "output_type": "execute_result"
    }
   ],
   "source": [
    "# Checking for null values in dataframe\n",
    "churndata.isna().sum()"
   ]
  },
  {
   "cell_type": "markdown",
   "metadata": {},
   "source": [
    "- Notice 11 NaN values in totalcharges column. I will use the mean of 'totalcharges' to fill these out"
   ]
  },
  {
   "cell_type": "code",
   "execution_count": 8,
   "metadata": {},
   "outputs": [
    {
     "data": {
      "text/plain": [
       "gender              0\n",
       "seniorcitizen       0\n",
       "partner             0\n",
       "dependents          0\n",
       "tenure              0\n",
       "phoneservice        0\n",
       "onlinesecurity      0\n",
       "onlinebackup        0\n",
       "deviceprotection    0\n",
       "techsupport         0\n",
       "streamingtv         0\n",
       "streamingmovies     0\n",
       "contract            0\n",
       "monthlycharges      0\n",
       "totalcharges        0\n",
       "churn               0\n",
       "dtype: int64"
      ]
     },
     "execution_count": 8,
     "metadata": {},
     "output_type": "execute_result"
    }
   ],
   "source": [
    "# Creating variable 'mean' and will be mean of totalcharges feature\n",
    "# Will use fillna function to replace NaN values\n",
    "mean = np.mean(churndata['totalcharges'])\n",
    "\n",
    "churndata['totalcharges'] = churndata['totalcharges'].fillna(mean)\n",
    "\n",
    "churndata.isna().sum() # Checking to make sure NaN's have been removed"
   ]
  },
  {
   "cell_type": "code",
   "execution_count": 9,
   "metadata": {},
   "outputs": [
    {
     "data": {
      "text/html": [
       "<div>\n",
       "<style scoped>\n",
       "    .dataframe tbody tr th:only-of-type {\n",
       "        vertical-align: middle;\n",
       "    }\n",
       "\n",
       "    .dataframe tbody tr th {\n",
       "        vertical-align: top;\n",
       "    }\n",
       "\n",
       "    .dataframe thead th {\n",
       "        text-align: right;\n",
       "    }\n",
       "</style>\n",
       "<table border=\"1\" class=\"dataframe\">\n",
       "  <thead>\n",
       "    <tr style=\"text-align: right;\">\n",
       "      <th></th>\n",
       "      <th>tenure</th>\n",
       "      <th>seniorcitizen</th>\n",
       "      <th>monthlycharges</th>\n",
       "      <th>totalcharges</th>\n",
       "    </tr>\n",
       "  </thead>\n",
       "  <tbody>\n",
       "    <tr>\n",
       "      <th>0</th>\n",
       "      <td>1</td>\n",
       "      <td>0</td>\n",
       "      <td>29.85</td>\n",
       "      <td>29.85</td>\n",
       "    </tr>\n",
       "    <tr>\n",
       "      <th>1</th>\n",
       "      <td>34</td>\n",
       "      <td>0</td>\n",
       "      <td>56.95</td>\n",
       "      <td>1889.50</td>\n",
       "    </tr>\n",
       "    <tr>\n",
       "      <th>2</th>\n",
       "      <td>2</td>\n",
       "      <td>0</td>\n",
       "      <td>53.85</td>\n",
       "      <td>108.15</td>\n",
       "    </tr>\n",
       "    <tr>\n",
       "      <th>3</th>\n",
       "      <td>45</td>\n",
       "      <td>0</td>\n",
       "      <td>42.30</td>\n",
       "      <td>1840.75</td>\n",
       "    </tr>\n",
       "    <tr>\n",
       "      <th>4</th>\n",
       "      <td>2</td>\n",
       "      <td>0</td>\n",
       "      <td>70.70</td>\n",
       "      <td>151.65</td>\n",
       "    </tr>\n",
       "  </tbody>\n",
       "</table>\n",
       "</div>"
      ],
      "text/plain": [
       "   tenure  seniorcitizen  monthlycharges  totalcharges\n",
       "0       1              0           29.85         29.85\n",
       "1      34              0           56.95       1889.50\n",
       "2       2              0           53.85        108.15\n",
       "3      45              0           42.30       1840.75\n",
       "4       2              0           70.70        151.65"
      ]
     },
     "execution_count": 9,
     "metadata": {},
     "output_type": "execute_result"
    }
   ],
   "source": [
    "# Setting up 2 dataframes with numerical features - tenure, seniorcitizen, monthlycharges, and totalcharges\n",
    "# churnNum - to provide headers back to churnNums after preProcessing\n",
    "# churnNumS - to be used for PreProcessing\n",
    "churnNum = churndata[['tenure','seniorcitizen','monthlycharges','totalcharges']].copy()\n",
    "churnNumS = churndata[['tenure','seniorcitizen','monthlycharges','totalcharges']].copy() # For standard scaler\n",
    "churnNumS.head() # Header Check"
   ]
  },
  {
   "cell_type": "markdown",
   "metadata": {},
   "source": [
    "# PreProcessing - StandardScaler & Normalizer"
   ]
  },
  {
   "cell_type": "code",
   "execution_count": 10,
   "metadata": {},
   "outputs": [],
   "source": [
    "# Using StandarScaler & Normalizer to scale data (Doing both now to see if there is any significant change) \n",
    "scaler = StandardScaler()\n",
    "scaler.fit(churnNumS)\n",
    "churnNumS = scaler.transform(churnNumS)\n"
   ]
  },
  {
   "cell_type": "code",
   "execution_count": 11,
   "metadata": {},
   "outputs": [],
   "source": [
    "# Splitting the dataset into train and test\n",
    "\n",
    "X = churnNumS\n",
    "y = churndata['churn']\n",
    "\n",
    "X_train, X_test, y_train, y_test = train_test_split(X, y, test_size = 0.3, random_state = 42)"
   ]
  },
  {
   "cell_type": "markdown",
   "metadata": {},
   "source": [
    "# Running the Logistics Regression Model"
   ]
  },
  {
   "cell_type": "code",
   "execution_count": 12,
   "metadata": {},
   "outputs": [
    {
     "name": "stdout",
     "output_type": "stream",
     "text": [
      "The Kappa of your model is: 0.42\n",
      "The accuracy of your model is:  0.7936583057264552\n"
     ]
    },
    {
     "data": {
      "image/png": "[encoded data removed]",
      "text/plain": [
       "<Figure size 432x288 with 2 Axes>"
      ]
     },
     "metadata": {
      "needs_background": "light"
     },
     "output_type": "display_data"
    }
   ],
   "source": [
    "# Running the Logistic Regression Model \n",
    "clf = LogisticRegression(random_state = 42, max_iter = 500).fit(X_train, y_train)\n",
    "predictions = clf.predict(X_test)\n",
    "\n",
    "# Model Metrics using cohen_kappa and accuracy score\n",
    "plot_confusion_matrix(clf, X_test, y_test)\n",
    "print(\"The Kappa of your model is: %4.2f\" % (cohen_kappa_score(y_test, predictions)))\n",
    "print(\"The accuracy of your model is: \", accuracy_score(y_test, predictions))\n"
   ]
  },
  {
   "cell_type": "code",
   "execution_count": 13,
   "metadata": {},
   "outputs": [
    {
     "data": {
      "text/plain": [
       "No     5174\n",
       "Yes    1869\n",
       "Name: churn, dtype: int64"
      ]
     },
     "execution_count": 13,
     "metadata": {},
     "output_type": "execute_result"
    }
   ],
   "source": [
    "# Checking for imbalance of the model\n",
    "churndata['churn'].value_counts()"
   ]
  },
  {
   "cell_type": "markdown",
   "metadata": {},
   "source": [
    "- Decent accuracy score of the model but low Kappa. Checking for the imbalance you can see that churn is heavily favoured to No's in the model"
   ]
  },
  {
   "cell_type": "markdown",
   "metadata": {},
   "source": [
    "# Imbalance fixes - Downsampling"
   ]
  },
  {
   "cell_type": "code",
   "execution_count": 14,
   "metadata": {},
   "outputs": [
    {
     "data": {
      "text/html": [
       "<div>\n",
       "<style scoped>\n",
       "    .dataframe tbody tr th:only-of-type {\n",
       "        vertical-align: middle;\n",
       "    }\n",
       "\n",
       "    .dataframe tbody tr th {\n",
       "        vertical-align: top;\n",
       "    }\n",
       "\n",
       "    .dataframe thead th {\n",
       "        text-align: right;\n",
       "    }\n",
       "</style>\n",
       "<table border=\"1\" class=\"dataframe\">\n",
       "  <thead>\n",
       "    <tr style=\"text-align: right;\">\n",
       "      <th></th>\n",
       "      <th>tenure</th>\n",
       "      <th>seniorcitizen</th>\n",
       "      <th>monthlycharges</th>\n",
       "      <th>totalcharges</th>\n",
       "      <th>churn</th>\n",
       "    </tr>\n",
       "  </thead>\n",
       "  <tbody>\n",
       "    <tr>\n",
       "      <th>0</th>\n",
       "      <td>-1.277445</td>\n",
       "      <td>-0.439916</td>\n",
       "      <td>-1.160323</td>\n",
       "      <td>-0.994971</td>\n",
       "      <td>No</td>\n",
       "    </tr>\n",
       "    <tr>\n",
       "      <th>1</th>\n",
       "      <td>0.066327</td>\n",
       "      <td>-0.439916</td>\n",
       "      <td>-0.259629</td>\n",
       "      <td>-0.173876</td>\n",
       "      <td>No</td>\n",
       "    </tr>\n",
       "    <tr>\n",
       "      <th>2</th>\n",
       "      <td>-1.236724</td>\n",
       "      <td>-0.439916</td>\n",
       "      <td>-0.362660</td>\n",
       "      <td>-0.960399</td>\n",
       "      <td>Yes</td>\n",
       "    </tr>\n",
       "    <tr>\n",
       "      <th>3</th>\n",
       "      <td>0.514251</td>\n",
       "      <td>-0.439916</td>\n",
       "      <td>-0.746535</td>\n",
       "      <td>-0.195400</td>\n",
       "      <td>No</td>\n",
       "    </tr>\n",
       "    <tr>\n",
       "      <th>4</th>\n",
       "      <td>-1.236724</td>\n",
       "      <td>-0.439916</td>\n",
       "      <td>0.197365</td>\n",
       "      <td>-0.941193</td>\n",
       "      <td>Yes</td>\n",
       "    </tr>\n",
       "    <tr>\n",
       "      <th>...</th>\n",
       "      <td>...</td>\n",
       "      <td>...</td>\n",
       "      <td>...</td>\n",
       "      <td>...</td>\n",
       "      <td>...</td>\n",
       "    </tr>\n",
       "    <tr>\n",
       "      <th>7038</th>\n",
       "      <td>-0.340876</td>\n",
       "      <td>-0.439916</td>\n",
       "      <td>0.665992</td>\n",
       "      <td>-0.129281</td>\n",
       "      <td>No</td>\n",
       "    </tr>\n",
       "    <tr>\n",
       "      <th>7039</th>\n",
       "      <td>1.613701</td>\n",
       "      <td>-0.439916</td>\n",
       "      <td>1.277533</td>\n",
       "      <td>2.242808</td>\n",
       "      <td>No</td>\n",
       "    </tr>\n",
       "    <tr>\n",
       "      <th>7040</th>\n",
       "      <td>-0.870241</td>\n",
       "      <td>-0.439916</td>\n",
       "      <td>-1.168632</td>\n",
       "      <td>-0.855182</td>\n",
       "      <td>No</td>\n",
       "    </tr>\n",
       "    <tr>\n",
       "      <th>7041</th>\n",
       "      <td>-1.155283</td>\n",
       "      <td>2.273159</td>\n",
       "      <td>0.320338</td>\n",
       "      <td>-0.872777</td>\n",
       "      <td>Yes</td>\n",
       "    </tr>\n",
       "    <tr>\n",
       "      <th>7042</th>\n",
       "      <td>1.369379</td>\n",
       "      <td>-0.439916</td>\n",
       "      <td>1.358961</td>\n",
       "      <td>2.013917</td>\n",
       "      <td>No</td>\n",
       "    </tr>\n",
       "  </tbody>\n",
       "</table>\n",
       "<p>7043 rows × 5 columns</p>\n",
       "</div>"
      ],
      "text/plain": [
       "        tenure  seniorcitizen  monthlycharges  totalcharges churn\n",
       "0    -1.277445      -0.439916       -1.160323     -0.994971    No\n",
       "1     0.066327      -0.439916       -0.259629     -0.173876    No\n",
       "2    -1.236724      -0.439916       -0.362660     -0.960399   Yes\n",
       "3     0.514251      -0.439916       -0.746535     -0.195400    No\n",
       "4    -1.236724      -0.439916        0.197365     -0.941193   Yes\n",
       "...        ...            ...             ...           ...   ...\n",
       "7038 -0.340876      -0.439916        0.665992     -0.129281    No\n",
       "7039  1.613701      -0.439916        1.277533      2.242808    No\n",
       "7040 -0.870241      -0.439916       -1.168632     -0.855182    No\n",
       "7041 -1.155283       2.273159        0.320338     -0.872777   Yes\n",
       "7042  1.369379      -0.439916        1.358961      2.013917    No\n",
       "\n",
       "[7043 rows x 5 columns]"
      ]
     },
     "execution_count": 14,
     "metadata": {},
     "output_type": "execute_result"
    }
   ],
   "source": [
    "# Concating the X and y df's fr\n",
    "Xd = pd.DataFrame(X, columns = churnNum.columns)\n",
    "yd = pd.DataFrame(y)\n",
    "\n",
    "downchurn = pd.concat([Xd,yd], axis = 1) # 'downchurn' to indicate this will be used specifically for downsampling\n",
    "downchurn"
   ]
  },
  {
   "cell_type": "code",
   "execution_count": 15,
   "metadata": {},
   "outputs": [
    {
     "name": "stdout",
     "output_type": "stream",
     "text": [
      "(1869, 5)\n",
      "(1869, 5)\n"
     ]
    },
    {
     "data": {
      "text/plain": [
       "No     1869\n",
       "Yes    1869\n",
       "Name: churn, dtype: int64"
      ]
     },
     "execution_count": 15,
     "metadata": {},
     "output_type": "execute_result"
    }
   ],
   "source": [
    "# Creating different categories for yes and no so that they can be scaled and shuffled\n",
    "# Will use filter of the column to pick the yes and no's\n",
    "\n",
    "category_yes = downchurn[downchurn['churn'] == 'Yes']\n",
    "category_no = downchurn[downchurn['churn'] == 'No']\n",
    "\n",
    "# From initial model we see that No's are heavily favored. So will use count of yes's to limit answers\n",
    "category_no = category_no.sample(len(category_yes))\n",
    "print(category_yes.shape) #checking shapes\n",
    "print(category_no.shape)\n",
    "\n",
    "downchurn = pd.concat([category_yes, category_no], axis = 0)\n",
    "#shuffling the data\n",
    "downchurn = downchurn.sample(frac = 1)\n",
    "downchurn['churn'].value_counts()"
   ]
  },
  {
   "cell_type": "code",
   "execution_count": 16,
   "metadata": {},
   "outputs": [],
   "source": [
    "# Refitting the downchurn data with X and Y train\n",
    "Xd = downchurn.drop(['churn'], axis = 1)\n",
    "yd = downchurn['churn']\n",
    "\n",
    "Xd_train, Xd_test, yd_train, yd_test = train_test_split(Xd, yd, test_size = 0.3, random_state = 42)"
   ]
  },
  {
   "cell_type": "code",
   "execution_count": 17,
   "metadata": {},
   "outputs": [
    {
     "name": "stdout",
     "output_type": "stream",
     "text": [
      "The Kappa of your model is: 0.43\n",
      "The accuracy of your model is:  0.7156862745098039\n"
     ]
    },
    {
     "data": {
      "image/png": "[encoded data removed]",
      "text/plain": [
       "<Figure size 432x288 with 2 Axes>"
      ]
     },
     "metadata": {
      "needs_background": "light"
     },
     "output_type": "display_data"
    }
   ],
   "source": [
    "# Running Logistic Regression on downsampled data\n",
    "clf = LogisticRegression(random_state = 42, max_iter = 500).fit(Xd_train, yd_train)\n",
    "predictions = clf.predict(Xd_test)\n",
    "\n",
    "# Model Metrics using cohen_kappa and accuracy score\n",
    "plot_confusion_matrix(clf, Xd_test, yd_test)\n",
    "print(\"The Kappa of your model is: %4.2f\" % (cohen_kappa_score(yd_test, predictions)))\n",
    "print(\"The accuracy of your model is: \", accuracy_score(yd_test, predictions))\n"
   ]
  },
  {
   "cell_type": "code",
   "execution_count": 18,
   "metadata": {},
   "outputs": [
    {
     "data": {
      "text/plain": [
       "No     1869\n",
       "Yes    1869\n",
       "Name: churn, dtype: int64"
      ]
     },
     "execution_count": 18,
     "metadata": {},
     "output_type": "execute_result"
    }
   ],
   "source": [
    "# Checking for imbalance of the model\n",
    "downchurn['churn'].value_counts()"
   ]
  },
  {
   "cell_type": "markdown",
   "metadata": {},
   "source": [
    "- After downsampling, no imbalance\n",
    "- Slight decrease in accuracy score but improvement in Kappa Score"
   ]
  },
  {
   "cell_type": "markdown",
   "metadata": {},
   "source": [
    "# Imbalance Fixes - Upsample"
   ]
  },
  {
   "cell_type": "code",
   "execution_count": 20,
   "metadata": {},
   "outputs": [
    {
     "data": {
      "text/html": [
       "<div>\n",
       "<style scoped>\n",
       "    .dataframe tbody tr th:only-of-type {\n",
       "        vertical-align: middle;\n",
       "    }\n",
       "\n",
       "    .dataframe tbody tr th {\n",
       "        vertical-align: top;\n",
       "    }\n",
       "\n",
       "    .dataframe thead th {\n",
       "        text-align: right;\n",
       "    }\n",
       "</style>\n",
       "<table border=\"1\" class=\"dataframe\">\n",
       "  <thead>\n",
       "    <tr style=\"text-align: right;\">\n",
       "      <th></th>\n",
       "      <th>tenure</th>\n",
       "      <th>seniorcitizen</th>\n",
       "      <th>monthlycharges</th>\n",
       "      <th>totalcharges</th>\n",
       "      <th>churn</th>\n",
       "    </tr>\n",
       "  </thead>\n",
       "  <tbody>\n",
       "    <tr>\n",
       "      <th>0</th>\n",
       "      <td>-1.277445</td>\n",
       "      <td>-0.439916</td>\n",
       "      <td>-1.160323</td>\n",
       "      <td>-0.994971</td>\n",
       "      <td>No</td>\n",
       "    </tr>\n",
       "    <tr>\n",
       "      <th>1</th>\n",
       "      <td>0.066327</td>\n",
       "      <td>-0.439916</td>\n",
       "      <td>-0.259629</td>\n",
       "      <td>-0.173876</td>\n",
       "      <td>No</td>\n",
       "    </tr>\n",
       "    <tr>\n",
       "      <th>2</th>\n",
       "      <td>-1.236724</td>\n",
       "      <td>-0.439916</td>\n",
       "      <td>-0.362660</td>\n",
       "      <td>-0.960399</td>\n",
       "      <td>Yes</td>\n",
       "    </tr>\n",
       "    <tr>\n",
       "      <th>3</th>\n",
       "      <td>0.514251</td>\n",
       "      <td>-0.439916</td>\n",
       "      <td>-0.746535</td>\n",
       "      <td>-0.195400</td>\n",
       "      <td>No</td>\n",
       "    </tr>\n",
       "    <tr>\n",
       "      <th>4</th>\n",
       "      <td>-1.236724</td>\n",
       "      <td>-0.439916</td>\n",
       "      <td>0.197365</td>\n",
       "      <td>-0.941193</td>\n",
       "      <td>Yes</td>\n",
       "    </tr>\n",
       "    <tr>\n",
       "      <th>...</th>\n",
       "      <td>...</td>\n",
       "      <td>...</td>\n",
       "      <td>...</td>\n",
       "      <td>...</td>\n",
       "      <td>...</td>\n",
       "    </tr>\n",
       "    <tr>\n",
       "      <th>7038</th>\n",
       "      <td>-0.340876</td>\n",
       "      <td>-0.439916</td>\n",
       "      <td>0.665992</td>\n",
       "      <td>-0.129281</td>\n",
       "      <td>No</td>\n",
       "    </tr>\n",
       "    <tr>\n",
       "      <th>7039</th>\n",
       "      <td>1.613701</td>\n",
       "      <td>-0.439916</td>\n",
       "      <td>1.277533</td>\n",
       "      <td>2.242808</td>\n",
       "      <td>No</td>\n",
       "    </tr>\n",
       "    <tr>\n",
       "      <th>7040</th>\n",
       "      <td>-0.870241</td>\n",
       "      <td>-0.439916</td>\n",
       "      <td>-1.168632</td>\n",
       "      <td>-0.855182</td>\n",
       "      <td>No</td>\n",
       "    </tr>\n",
       "    <tr>\n",
       "      <th>7041</th>\n",
       "      <td>-1.155283</td>\n",
       "      <td>2.273159</td>\n",
       "      <td>0.320338</td>\n",
       "      <td>-0.872777</td>\n",
       "      <td>Yes</td>\n",
       "    </tr>\n",
       "    <tr>\n",
       "      <th>7042</th>\n",
       "      <td>1.369379</td>\n",
       "      <td>-0.439916</td>\n",
       "      <td>1.358961</td>\n",
       "      <td>2.013917</td>\n",
       "      <td>No</td>\n",
       "    </tr>\n",
       "  </tbody>\n",
       "</table>\n",
       "<p>7043 rows × 5 columns</p>\n",
       "</div>"
      ],
      "text/plain": [
       "        tenure  seniorcitizen  monthlycharges  totalcharges churn\n",
       "0    -1.277445      -0.439916       -1.160323     -0.994971    No\n",
       "1     0.066327      -0.439916       -0.259629     -0.173876    No\n",
       "2    -1.236724      -0.439916       -0.362660     -0.960399   Yes\n",
       "3     0.514251      -0.439916       -0.746535     -0.195400    No\n",
       "4    -1.236724      -0.439916        0.197365     -0.941193   Yes\n",
       "...        ...            ...             ...           ...   ...\n",
       "7038 -0.340876      -0.439916        0.665992     -0.129281    No\n",
       "7039  1.613701      -0.439916        1.277533      2.242808    No\n",
       "7040 -0.870241      -0.439916       -1.168632     -0.855182    No\n",
       "7041 -1.155283       2.273159        0.320338     -0.872777   Yes\n",
       "7042  1.369379      -0.439916        1.358961      2.013917    No\n",
       "\n",
       "[7043 rows x 5 columns]"
      ]
     },
     "execution_count": 20,
     "metadata": {},
     "output_type": "execute_result"
    }
   ],
   "source": [
    "# Creating dataframe for upsampling\n",
    "Xu = pd.DataFrame(X, columns = churnNum.columns)\n",
    "yu = pd.DataFrame(y)\n",
    "\n",
    "upchurn = pd.concat([Xu,yu], axis = 1) # 'upchurn' to indicate this will be used specifically for upsampling\n",
    "upchurn"
   ]
  },
  {
   "cell_type": "code",
   "execution_count": 21,
   "metadata": {},
   "outputs": [
    {
     "name": "stdout",
     "output_type": "stream",
     "text": [
      "(5174, 5)\n"
     ]
    },
    {
     "data": {
      "text/plain": [
       "No     5174\n",
       "Yes    5174\n",
       "Name: churn, dtype: int64"
      ]
     },
     "execution_count": 21,
     "metadata": {},
     "output_type": "execute_result"
    }
   ],
   "source": [
    "# Creating different categories for yes and no so that they can be scaled and shuffled\n",
    "# Will use filter of the column to pick the yes and no's\n",
    "\n",
    "category_yes = upchurn[upchurn['churn'] == 'Yes']\n",
    "category_no = upchurn[upchurn['churn'] == 'No']\n",
    "\n",
    "# From initial model we see that No's are heavily favored. So will use count of yes's to limit answers\n",
    "category_yes = category_yes.sample(len(category_no), replace = True)\n",
    "print(category_yes.shape) #checking shapes\n",
    "\n",
    "upchurn = pd.concat([category_yes, category_no], axis = 0)\n",
    "#shuffling the data\n",
    "upchurn = upchurn.sample(frac = 1)\n",
    "upchurn['churn'].value_counts()"
   ]
  },
  {
   "cell_type": "code",
   "execution_count": 26,
   "metadata": {},
   "outputs": [],
   "source": [
    "# splitting the upchurn into test and train\n",
    "Xu = upchurn.drop(['churn'], axis = 1)\n",
    "yu = upchurn['churn']\n",
    "\n",
    "Xu_train, Xu_test, yu_train, yu_test = train_test_split(Xu, yu, test_size = 0.3, random_state = 42)"
   ]
  },
  {
   "cell_type": "code",
   "execution_count": 27,
   "metadata": {},
   "outputs": [
    {
     "name": "stdout",
     "output_type": "stream",
     "text": [
      "The Kappa of your model is: 0.45\n",
      "The accuracy of your model is:  0.7246376811594203\n"
     ]
    },
    {
     "data": {
      "image/png": "[encoded data removed]",
      "text/plain": [
       "<Figure size 432x288 with 2 Axes>"
      ]
     },
     "metadata": {
      "needs_background": "light"
     },
     "output_type": "display_data"
    }
   ],
   "source": [
    "# Running Logistic Regression on upsampled data\n",
    "clf = LogisticRegression(random_state = 42, max_iter = 500).fit(Xu_train, yu_train)\n",
    "predictions = clf.predict(Xu_test)\n",
    "\n",
    "# Model Metrics using cohen_kappa and accuracy score\n",
    "plot_confusion_matrix(clf, Xu_test, yu_test)\n",
    "print(\"The Kappa of your model is: %4.2f\" % (cohen_kappa_score(yu_test, predictions)))\n",
    "print(\"The accuracy of your model is: \", accuracy_score(yu_test, predictions))"
   ]
  },
  {
   "cell_type": "code",
   "execution_count": 28,
   "metadata": {},
   "outputs": [
    {
     "data": {
      "text/plain": [
       "No     5174\n",
       "Yes    5174\n",
       "Name: churn, dtype: int64"
      ]
     },
     "execution_count": 28,
     "metadata": {},
     "output_type": "execute_result"
    }
   ],
   "source": [
    "# Checking for imbalance of the model\n",
    "upchurn['churn'].value_counts()"
   ]
  },
  {
   "cell_type": "markdown",
   "metadata": {},
   "source": [
    "#Note\n",
    "- Increased accuracy (0.72) compared to downsampled (0.71) but still lower than initial model (0.79)\n",
    "- Increased Kappa score (0.45) compared to downsampled (0.43) and inital model (0.42)\n",
    "- No imbalance in data"
   ]
  },
  {
   "cell_type": "markdown",
   "metadata": {},
   "source": [
    "# Imbalance Fixes - Smote"
   ]
  },
  {
   "cell_type": "code",
   "execution_count": 35,
   "metadata": {},
   "outputs": [
    {
     "name": "stdout",
     "output_type": "stream",
     "text": [
      "[['No' 5174]\n",
      " ['Yes' 5174]]\n"
     ]
    }
   ],
   "source": [
    "# Creating df for SMOTE specifically\n",
    "\n",
    "\n",
    "X_smote = pd.DataFrame(X, columns = churnNum.columns)\n",
    "y_smote = pd.DataFrame(y)\n",
    "churnsmt = pd.concat([X_smote,y_smote], axis = 1) # 'churnsmt' to indicate this will be used specifically for SMOTE\n",
    "\n",
    "# Creating 'smote' variable with SMOTE function\n",
    "smote = SMOTE()\n",
    "ys = churnsmt['churn']\n",
    "Xs = churnsmt.drop(['churn'], axis = 1)\n",
    "\n",
    "# fitting smote on Xs and Ys\n",
    "X_sm, y_sm = smote.fit_sample(Xs, ys)\n",
    "\n",
    "unique, counts = np.unique(y_sm, return_counts = True)\n",
    "\n",
    "print(np.asarray((unique, counts)).T)"
   ]
  },
  {
   "cell_type": "code",
   "execution_count": 38,
   "metadata": {},
   "outputs": [],
   "source": [
    "# splitting the churnsmt into test and train\n",
    "Xse_train, Xse_test, yse_train, yse_test = train_test_split(X_sm, y_sm, test_size = 0.3, random_state = 42)"
   ]
  },
  {
   "cell_type": "code",
   "execution_count": 39,
   "metadata": {},
   "outputs": [
    {
     "name": "stdout",
     "output_type": "stream",
     "text": [
      "The Kappa of your model is: 0.50\n",
      "The accuracy of your model is:  0.7507246376811594\n"
     ]
    },
    {
     "data": {
      "image/png": "[encoded data removed]",
      "text/plain": [
       "<Figure size 432x288 with 2 Axes>"
      ]
     },
     "metadata": {
      "needs_background": "light"
     },
     "output_type": "display_data"
    }
   ],
   "source": [
    "# Running Logistic Regression on SMOTE data\n",
    "clf = LogisticRegression(random_state = 42, max_iter = 500).fit(Xse_train, yse_train)\n",
    "predictions = clf.predict(Xse_test)\n",
    "\n",
    "# Model Metrics using cohen_kappa and accuracy score\n",
    "plot_confusion_matrix(clf, Xse_test, yse_test)\n",
    "print(\"The Kappa of your model is: %4.2f\" % (cohen_kappa_score(yse_test, predictions)))\n",
    "print(\"The accuracy of your model is: \", accuracy_score(yse_test, predictions))"
   ]
  },
  {
   "cell_type": "markdown",
   "metadata": {},
   "source": [
    "#Note\n",
    "- Increase in both accuracy score (0.75) and kappa score( compared to all previous models"
   ]
  },
  {
   "cell_type": "markdown",
   "metadata": {},
   "source": [
    "# Imbalance Fixes - TomekLinks"
   ]
  },
  {
   "cell_type": "code",
   "execution_count": 37,
   "metadata": {},
   "outputs": [
    {
     "name": "stdout",
     "output_type": "stream",
     "text": [
      "[['No' 4666]\n",
      " ['Yes' 1869]]\n"
     ]
    },
    {
     "name": "stderr",
     "output_type": "stream",
     "text": [
      "C:\\Users\\sogun\\anaconda3\\lib\\site-packages\\imblearn\\utils\\_validation.py:635: FutureWarning: Pass sampling_strategy=majority as keyword args. From version 0.9 passing these as positional arguments will result in an error\n",
      "  warnings.warn(\"Pass {} as keyword args. From version 0.9 \"\n"
     ]
    }
   ],
   "source": [
    "# Creating df for TomekLinks\n",
    "X_Tome = pd.DataFrame(X, columns = churnNum.columns)\n",
    "y_Tome = pd.DataFrame(y)\n",
    "churntome = pd.concat([X_Tome,y_Tome], axis = 1) # 'churntome' to indicate this will be used specifically for TomekLinks\n",
    "\n",
    "# creating tl variable for TomekLinks funtions\n",
    "tl = TomekLinks('majority')\n",
    "\n",
    "# y and x variable for model\n",
    "yt = churntome['churn']\n",
    "Xt = churntome.drop(['churn'], axis = 1)\n",
    "\n",
    "# fitting yt and Xt\n",
    "X_tl, y_tl = tl.fit_sample(Xt, yt)\n",
    "\n",
    "unique, counts = np.unique(y_tl, return_counts = True)\n",
    "\n",
    "print(np.asarray((unique, counts)).T)"
   ]
  },
  {
   "cell_type": "code",
   "execution_count": 40,
   "metadata": {},
   "outputs": [],
   "source": [
    "# Splitting into test and train\n",
    "Xkl_train, Xkl_test, ykl_train, ykl_test = train_test_split(X_tl, y_tl, test_size = 0.3, random_state = 42)"
   ]
  },
  {
   "cell_type": "code",
   "execution_count": 41,
   "metadata": {},
   "outputs": [
    {
     "name": "stdout",
     "output_type": "stream",
     "text": [
      "The Kappa of your model is: 0.47\n",
      "The accuracy of your model is:  0.7960224375318715\n"
     ]
    },
    {
     "data": {
      "image/png": "[encoded data removed]",
      "text/plain": [
       "<Figure size 432x288 with 2 Axes>"
      ]
     },
     "metadata": {
      "needs_background": "light"
     },
     "output_type": "display_data"
    }
   ],
   "source": [
    "# Running Logistic Regression on SMOTE data\n",
    "clf = LogisticRegression(random_state = 42, max_iter = 500).fit(Xkl_train, ykl_train)\n",
    "predictions = clf.predict(Xkl_test)\n",
    "\n",
    "# Model Metrics using cohen_kappa and accuracy score\n",
    "plot_confusion_matrix(clf, Xkl_test, ykl_test)\n",
    "print(\"The Kappa of your model is: %4.2f\" % (cohen_kappa_score(ykl_test, predictions)))\n",
    "print(\"The accuracy of your model is: \", accuracy_score(ykl_test, predictions))"
   ]
  },
  {
   "cell_type": "markdown",
   "metadata": {},
   "source": [
    "#Note\n",
    "- Best accurarcy score but kappa score is higher than downsampling and upsampling, but lower than SMOTE kappa"
   ]
  },
  {
   "cell_type": "code",
   "execution_count": null,
   "metadata": {},
   "outputs": [],
   "source": []
  }
 ],
 "metadata": {
  "kernelspec": {
   "display_name": "Python 3",
   "language": "python",
   "name": "python3"
  },
  "language_info": {
   "codemirror_mode": {
    "name": "ipython",
    "version": 3
   },
   "file_extension": ".py",
   "mimetype": "text/x-python",
   "name": "python",
   "nbconvert_exporter": "python",
   "pygments_lexer": "ipython3",
   "version": "3.8.3"
  }
 },
 "nbformat": 4,
 "nbformat_minor": 4
}
